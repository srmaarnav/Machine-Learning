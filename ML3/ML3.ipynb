{
 "cells": [
  {
   "cell_type": "code",
   "execution_count": 1,
   "id": "ddab5041-cd1c-4d8b-8c64-c92f699a99de",
   "metadata": {},
   "outputs": [],
   "source": [
    "import pandas as pd\n",
    "df1 = pd.read_csv('ML3Data.csv')"
   ]
  },
  {
   "cell_type": "code",
   "execution_count": 4,
   "id": "84ce68fd-6f1b-4c15-9dd6-9a5d9c0afb54",
   "metadata": {},
   "outputs": [
    {
     "data": {
      "text/html": [
       "<div>\n",
       "<style scoped>\n",
       "    .dataframe tbody tr th:only-of-type {\n",
       "        vertical-align: middle;\n",
       "    }\n",
       "\n",
       "    .dataframe tbody tr th {\n",
       "        vertical-align: top;\n",
       "    }\n",
       "\n",
       "    .dataframe thead th {\n",
       "        text-align: right;\n",
       "    }\n",
       "</style>\n",
       "<table border=\"1\" class=\"dataframe\">\n",
       "  <thead>\n",
       "    <tr style=\"text-align: right;\">\n",
       "      <th></th>\n",
       "      <th>L</th>\n",
       "      <th>D</th>\n",
       "      <th>L1</th>\n",
       "      <th>M</th>\n",
       "      <th>Gender</th>\n",
       "    </tr>\n",
       "  </thead>\n",
       "  <tbody>\n",
       "    <tr>\n",
       "      <th>0</th>\n",
       "      <td>39.1</td>\n",
       "      <td>18.7</td>\n",
       "      <td>181.0</td>\n",
       "      <td>3750.0</td>\n",
       "      <td>MALE</td>\n",
       "    </tr>\n",
       "    <tr>\n",
       "      <th>1</th>\n",
       "      <td>39.5</td>\n",
       "      <td>17.4</td>\n",
       "      <td>186.0</td>\n",
       "      <td>3800.0</td>\n",
       "      <td>FEMALE</td>\n",
       "    </tr>\n",
       "    <tr>\n",
       "      <th>2</th>\n",
       "      <td>40.3</td>\n",
       "      <td>18.0</td>\n",
       "      <td>195.0</td>\n",
       "      <td>3250.0</td>\n",
       "      <td>FEMALE</td>\n",
       "    </tr>\n",
       "    <tr>\n",
       "      <th>3</th>\n",
       "      <td>NaN</td>\n",
       "      <td>NaN</td>\n",
       "      <td>NaN</td>\n",
       "      <td>NaN</td>\n",
       "      <td>NaN</td>\n",
       "    </tr>\n",
       "    <tr>\n",
       "      <th>4</th>\n",
       "      <td>36.7</td>\n",
       "      <td>19.3</td>\n",
       "      <td>193.0</td>\n",
       "      <td>3450.0</td>\n",
       "      <td>FEMALE</td>\n",
       "    </tr>\n",
       "  </tbody>\n",
       "</table>\n",
       "</div>"
      ],
      "text/plain": [
       "      L     D     L1       M  Gender\n",
       "0  39.1  18.7  181.0  3750.0    MALE\n",
       "1  39.5  17.4  186.0  3800.0  FEMALE\n",
       "2  40.3  18.0  195.0  3250.0  FEMALE\n",
       "3   NaN   NaN    NaN     NaN     NaN\n",
       "4  36.7  19.3  193.0  3450.0  FEMALE"
      ]
     },
     "execution_count": 4,
     "metadata": {},
     "output_type": "execute_result"
    }
   ],
   "source": [
    "df1.head()\n",
    "#we can use df = df.rename(columns={'original' : 'new'})\n",
    "#online imported dataset lai columns delete garera file edit garera ani rename garera filw lai store garna milxa"
   ]
  },
  {
   "cell_type": "code",
   "execution_count": 5,
   "id": "4ea05dcc-7002-4f62-8917-dfc3f97162bd",
   "metadata": {},
   "outputs": [
    {
     "data": {
      "text/html": [
       "<div>\n",
       "<style scoped>\n",
       "    .dataframe tbody tr th:only-of-type {\n",
       "        vertical-align: middle;\n",
       "    }\n",
       "\n",
       "    .dataframe tbody tr th {\n",
       "        vertical-align: top;\n",
       "    }\n",
       "\n",
       "    .dataframe thead th {\n",
       "        text-align: right;\n",
       "    }\n",
       "</style>\n",
       "<table border=\"1\" class=\"dataframe\">\n",
       "  <thead>\n",
       "    <tr style=\"text-align: right;\">\n",
       "      <th></th>\n",
       "      <th>L</th>\n",
       "      <th>D</th>\n",
       "      <th>L1</th>\n",
       "      <th>M</th>\n",
       "    </tr>\n",
       "  </thead>\n",
       "  <tbody>\n",
       "    <tr>\n",
       "      <th>count</th>\n",
       "      <td>342.000000</td>\n",
       "      <td>342.000000</td>\n",
       "      <td>342.000000</td>\n",
       "      <td>342.000000</td>\n",
       "    </tr>\n",
       "    <tr>\n",
       "      <th>mean</th>\n",
       "      <td>43.921930</td>\n",
       "      <td>17.151170</td>\n",
       "      <td>200.915205</td>\n",
       "      <td>4201.754386</td>\n",
       "    </tr>\n",
       "    <tr>\n",
       "      <th>std</th>\n",
       "      <td>5.459584</td>\n",
       "      <td>1.974793</td>\n",
       "      <td>14.061714</td>\n",
       "      <td>801.954536</td>\n",
       "    </tr>\n",
       "    <tr>\n",
       "      <th>min</th>\n",
       "      <td>32.100000</td>\n",
       "      <td>13.100000</td>\n",
       "      <td>172.000000</td>\n",
       "      <td>2700.000000</td>\n",
       "    </tr>\n",
       "    <tr>\n",
       "      <th>25%</th>\n",
       "      <td>39.225000</td>\n",
       "      <td>15.600000</td>\n",
       "      <td>190.000000</td>\n",
       "      <td>3550.000000</td>\n",
       "    </tr>\n",
       "    <tr>\n",
       "      <th>50%</th>\n",
       "      <td>44.450000</td>\n",
       "      <td>17.300000</td>\n",
       "      <td>197.000000</td>\n",
       "      <td>4050.000000</td>\n",
       "    </tr>\n",
       "    <tr>\n",
       "      <th>75%</th>\n",
       "      <td>48.500000</td>\n",
       "      <td>18.700000</td>\n",
       "      <td>213.000000</td>\n",
       "      <td>4750.000000</td>\n",
       "    </tr>\n",
       "    <tr>\n",
       "      <th>max</th>\n",
       "      <td>59.600000</td>\n",
       "      <td>21.500000</td>\n",
       "      <td>231.000000</td>\n",
       "      <td>6300.000000</td>\n",
       "    </tr>\n",
       "  </tbody>\n",
       "</table>\n",
       "</div>"
      ],
      "text/plain": [
       "                L           D          L1            M\n",
       "count  342.000000  342.000000  342.000000   342.000000\n",
       "mean    43.921930   17.151170  200.915205  4201.754386\n",
       "std      5.459584    1.974793   14.061714   801.954536\n",
       "min     32.100000   13.100000  172.000000  2700.000000\n",
       "25%     39.225000   15.600000  190.000000  3550.000000\n",
       "50%     44.450000   17.300000  197.000000  4050.000000\n",
       "75%     48.500000   18.700000  213.000000  4750.000000\n",
       "max     59.600000   21.500000  231.000000  6300.000000"
      ]
     },
     "execution_count": 5,
     "metadata": {},
     "output_type": "execute_result"
    }
   ],
   "source": [
    "df1.describe()"
   ]
  },
  {
   "cell_type": "code",
   "execution_count": 7,
   "id": "c59079d9-b762-4a2f-b1eb-eaf0bfde5f84",
   "metadata": {},
   "outputs": [],
   "source": [
    "#file ma vako empty value lai delete pani garna milxa"
   ]
  },
  {
   "cell_type": "code",
   "execution_count": 11,
   "id": "40def54d-d2d8-480d-85a2-fe81fa0894d3",
   "metadata": {},
   "outputs": [
    {
     "data": {
      "text/plain": [
       "(344, 5)"
      ]
     },
     "execution_count": 11,
     "metadata": {},
     "output_type": "execute_result"
    }
   ],
   "source": [
    "df1.shape"
   ]
  },
  {
   "cell_type": "code",
   "execution_count": 12,
   "id": "135c6f60-2204-4e5c-9dda-436943618b82",
   "metadata": {},
   "outputs": [
    {
     "name": "stdout",
     "output_type": "stream",
     "text": [
      "<class 'pandas.core.frame.DataFrame'>\n",
      "RangeIndex: 344 entries, 0 to 343\n",
      "Data columns (total 5 columns):\n",
      " #   Column  Non-Null Count  Dtype  \n",
      "---  ------  --------------  -----  \n",
      " 0   L       342 non-null    float64\n",
      " 1   D       342 non-null    float64\n",
      " 2   L1      342 non-null    float64\n",
      " 3   M       342 non-null    float64\n",
      " 4   Gender  333 non-null    object \n",
      "dtypes: float64(4), object(1)\n",
      "memory usage: 13.6+ KB\n"
     ]
    }
   ],
   "source": [
    "df1.info()"
   ]
  },
  {
   "cell_type": "code",
   "execution_count": 13,
   "id": "66a06b44-8d88-46ea-bdff-49dcd34f932f",
   "metadata": {},
   "outputs": [
    {
     "data": {
      "text/plain": [
       "Gender\n",
       "FEMALE    165\n",
       "MALE      168\n",
       "dtype: int64"
      ]
     },
     "execution_count": 13,
     "metadata": {},
     "output_type": "execute_result"
    }
   ],
   "source": [
    "df1.groupby('Gender').size()"
   ]
  },
  {
   "cell_type": "code",
   "execution_count": 20,
   "id": "84070ec5-e0db-4c77-8855-70eeb0a2a32b",
   "metadata": {},
   "outputs": [
    {
     "data": {
      "text/html": [
       "<div>\n",
       "<style scoped>\n",
       "    .dataframe tbody tr th:only-of-type {\n",
       "        vertical-align: middle;\n",
       "    }\n",
       "\n",
       "    .dataframe tbody tr th {\n",
       "        vertical-align: top;\n",
       "    }\n",
       "\n",
       "    .dataframe thead th {\n",
       "        text-align: right;\n",
       "    }\n",
       "</style>\n",
       "<table border=\"1\" class=\"dataframe\">\n",
       "  <thead>\n",
       "    <tr style=\"text-align: right;\">\n",
       "      <th></th>\n",
       "      <th>L</th>\n",
       "      <th>D</th>\n",
       "      <th>L1</th>\n",
       "      <th>M</th>\n",
       "    </tr>\n",
       "    <tr>\n",
       "      <th>Gender</th>\n",
       "      <th></th>\n",
       "      <th></th>\n",
       "      <th></th>\n",
       "      <th></th>\n",
       "    </tr>\n",
       "  </thead>\n",
       "  <tbody>\n",
       "    <tr>\n",
       "      <th>FEMALE</th>\n",
       "      <td>4.903476</td>\n",
       "      <td>1.795681</td>\n",
       "      <td>12.500776</td>\n",
       "      <td>666.172050</td>\n",
       "    </tr>\n",
       "    <tr>\n",
       "      <th>MALE</th>\n",
       "      <td>5.366896</td>\n",
       "      <td>1.863351</td>\n",
       "      <td>14.547876</td>\n",
       "      <td>787.628884</td>\n",
       "    </tr>\n",
       "  </tbody>\n",
       "</table>\n",
       "</div>"
      ],
      "text/plain": [
       "               L         D         L1           M\n",
       "Gender                                           \n",
       "FEMALE  4.903476  1.795681  12.500776  666.172050\n",
       "MALE    5.366896  1.863351  14.547876  787.628884"
      ]
     },
     "execution_count": 20,
     "metadata": {},
     "output_type": "execute_result"
    }
   ],
   "source": [
    "df1.groupby('Gender').median()\n",
    "df1.groupby('Gender').mean()\n",
    "df1.groupby('Gender').std()"
   ]
  },
  {
   "cell_type": "code",
   "execution_count": 22,
   "id": "8949daa9-d136-42a0-8228-c6e0cb5b2862",
   "metadata": {},
   "outputs": [],
   "source": [
    "###Data Visualization"
   ]
  },
  {
   "cell_type": "code",
   "execution_count": 23,
   "id": "216f1d25-9234-4669-9f5c-11dffa8ad1b4",
   "metadata": {},
   "outputs": [],
   "source": [
    "import matplotlib.pyplot as plt"
   ]
  },
  {
   "cell_type": "code",
   "execution_count": 27,
   "id": "6ee30cc7-7572-47e2-bea9-4c8932859813",
   "metadata": {},
   "outputs": [
    {
     "data": {
      "image/png": "[encoded data removed]",
      "text/plain": [
       "<Figure size 640x480 with 1 Axes>"
      ]
     },
     "metadata": {},
     "output_type": "display_data"
    }
   ],
   "source": [
    "plt.scatter(df1['L'], df1['L1'])\n",
    "plt.show()"
   ]
  },
  {
   "cell_type": "code",
   "execution_count": 28,
   "id": "48437a79-7aed-4685-b96d-0f6d9b4200bd",
   "metadata": {},
   "outputs": [],
   "source": [
    "#to remove null values\n",
    "df1 = df1.dropna()"
   ]
  },
  {
   "cell_type": "code",
   "execution_count": 30,
   "id": "451d43c6-7982-4464-bac8-4f7a604c2a55",
   "metadata": {},
   "outputs": [
    {
     "data": {
      "text/html": [
       "<div>\n",
       "<style scoped>\n",
       "    .dataframe tbody tr th:only-of-type {\n",
       "        vertical-align: middle;\n",
       "    }\n",
       "\n",
       "    .dataframe tbody tr th {\n",
       "        vertical-align: top;\n",
       "    }\n",
       "\n",
       "    .dataframe thead th {\n",
       "        text-align: right;\n",
       "    }\n",
       "</style>\n",
       "<table border=\"1\" class=\"dataframe\">\n",
       "  <thead>\n",
       "    <tr style=\"text-align: right;\">\n",
       "      <th></th>\n",
       "      <th>L</th>\n",
       "      <th>D</th>\n",
       "      <th>L1</th>\n",
       "      <th>M</th>\n",
       "      <th>Gender</th>\n",
       "    </tr>\n",
       "  </thead>\n",
       "  <tbody>\n",
       "    <tr>\n",
       "      <th>0</th>\n",
       "      <td>39.1</td>\n",
       "      <td>18.7</td>\n",
       "      <td>181.0</td>\n",
       "      <td>3750.0</td>\n",
       "      <td>MALE</td>\n",
       "    </tr>\n",
       "    <tr>\n",
       "      <th>1</th>\n",
       "      <td>39.5</td>\n",
       "      <td>17.4</td>\n",
       "      <td>186.0</td>\n",
       "      <td>3800.0</td>\n",
       "      <td>FEMALE</td>\n",
       "    </tr>\n",
       "    <tr>\n",
       "      <th>2</th>\n",
       "      <td>40.3</td>\n",
       "      <td>18.0</td>\n",
       "      <td>195.0</td>\n",
       "      <td>3250.0</td>\n",
       "      <td>FEMALE</td>\n",
       "    </tr>\n",
       "    <tr>\n",
       "      <th>4</th>\n",
       "      <td>36.7</td>\n",
       "      <td>19.3</td>\n",
       "      <td>193.0</td>\n",
       "      <td>3450.0</td>\n",
       "      <td>FEMALE</td>\n",
       "    </tr>\n",
       "    <tr>\n",
       "      <th>5</th>\n",
       "      <td>39.3</td>\n",
       "      <td>20.6</td>\n",
       "      <td>190.0</td>\n",
       "      <td>3650.0</td>\n",
       "      <td>MALE</td>\n",
       "    </tr>\n",
       "  </tbody>\n",
       "</table>\n",
       "</div>"
      ],
      "text/plain": [
       "      L     D     L1       M  Gender\n",
       "0  39.1  18.7  181.0  3750.0    MALE\n",
       "1  39.5  17.4  186.0  3800.0  FEMALE\n",
       "2  40.3  18.0  195.0  3250.0  FEMALE\n",
       "4  36.7  19.3  193.0  3450.0  FEMALE\n",
       "5  39.3  20.6  190.0  3650.0    MALE"
      ]
     },
     "execution_count": 30,
     "metadata": {},
     "output_type": "execute_result"
    }
   ],
   "source": [
    "df1.head()"
   ]
  },
  {
   "cell_type": "code",
   "execution_count": 31,
   "id": "444e95e2-e767-408c-b1a8-6b715413dd0f",
   "metadata": {},
   "outputs": [
    {
     "data": {
      "text/plain": [
       "(333, 5)"
      ]
     },
     "execution_count": 31,
     "metadata": {},
     "output_type": "execute_result"
    }
   ],
   "source": [
    "df1.shape"
   ]
  },
  {
   "cell_type": "code",
   "execution_count": 35,
   "id": "e3d93f77-b687-4506-b82d-14b5f42febdf",
   "metadata": {},
   "outputs": [],
   "source": [
    "#Model Construction"
   ]
  },
  {
   "cell_type": "code",
   "execution_count": 32,
   "id": "01bd7941-5ba4-4300-a473-75181fb92497",
   "metadata": {},
   "outputs": [],
   "source": [
    "# Importing metrics for evaluation\n",
    "from sklearn.metrics import confusion_matrix\n",
    "from sklearn.metrics import classification_report"
   ]
  },
  {
   "cell_type": "code",
   "execution_count": 42,
   "id": "76feca80-93e3-49a7-b5c7-4653b04f94e7",
   "metadata": {},
   "outputs": [],
   "source": [
    "#help(df1.iloc)"
   ]
  },
  {
   "cell_type": "code",
   "execution_count": 52,
   "id": "1fd50255-e9ed-4de5-a803-71dbed1a936e",
   "metadata": {},
   "outputs": [],
   "source": [
    "# Seperating the data into dependent and independent variables\n",
    "X = df1.iloc[:, :-1].values #:-index all rows, and all columns & :-1 means leave last\n",
    "y = df1.iloc[:, -1].values #all rows of the last columns vanekoo male female "
   ]
  },
  {
   "cell_type": "code",
   "execution_count": 47,
   "id": "99bd9488-c789-422e-b35b-f998837eae3c",
   "metadata": {},
   "outputs": [],
   "source": [
    "# Splitting the dataset into the Training set and Test set\n",
    "from sklearn.model_selection import train_test_split\n",
    "X_train, X_test, y_train, y_test = train_test_split(X, y, test_size = 0.2, random_state = 0)\n",
    "#0.2 test size vaneko full data ko 20% lai test lai line\n",
    "#random state vaneko data shuffling"
   ]
  },
  {
   "cell_type": "code",
   "execution_count": 45,
   "id": "35a3663a-908d-484b-9382-80347c965581",
   "metadata": {},
   "outputs": [],
   "source": [
    "#Naive Byes"
   ]
  },
  {
   "cell_type": "code",
   "execution_count": 53,
   "id": "c5c42da9-4063-4167-85d7-de9afa445e2d",
   "metadata": {},
   "outputs": [],
   "source": [
    "# Naive Bayes\n",
    "from sklearn.naive_bayes import GaussianNB\n",
    "classifier = GaussianNB()\n",
    "classifier.fit(X_train, y_train)\n",
    "#yeta samma le model construction garxa\n",
    "\n",
    "y_pred = classifier.predict(X_test) # male female predict gareko X_test ko data bata"
   ]
  },
  {
   "cell_type": "code",
   "execution_count": 49,
   "id": "91a95e03-d932-4ded-b765-db05ed752405",
   "metadata": {},
   "outputs": [
    {
     "name": "stdout",
     "output_type": "stream",
     "text": [
      "              precision    recall  f1-score   support\n",
      "\n",
      "      FEMALE       0.87      0.98      0.92        41\n",
      "        MALE       0.95      0.77      0.85        26\n",
      "\n",
      "    accuracy                           0.90        67\n",
      "   macro avg       0.91      0.87      0.89        67\n",
      "weighted avg       0.90      0.90      0.89        67\n",
      "\n",
      "[[40  1]\n",
      " [ 6 20]]\n"
     ]
    }
   ],
   "source": [
    "# Summary of the predictions made by the classifier\n",
    "print(classification_report(y_test, y_pred))\n",
    "print(confusion_matrix(y_test, y_pred))"
   ]
  },
  {
   "cell_type": "code",
   "execution_count": 55,
   "id": "b82f8c61-309c-4dd8-b1c1-474f1d600271",
   "metadata": {},
   "outputs": [
    {
     "name": "stdout",
     "output_type": "stream",
     "text": [
      "accuracy is 0.8955223880597015\n"
     ]
    }
   ],
   "source": [
    "# Accuracy score\n",
    "from sklearn.metrics import accuracy_score\n",
    "print('accuracy is',accuracy_score(y_pred,y_test))"
   ]
  },
  {
   "cell_type": "code",
   "execution_count": 56,
   "id": "5f144afb-4eb0-498b-8dd0-15479eb81ba8",
   "metadata": {},
   "outputs": [],
   "source": [
    "#yo thau samma hamle data bata prediction nikalyo ani hmaro prediction 0.89 le accurate xa\n",
    "#aba user data liyera hamle aba nikalne kasto prediction aauxa vanera"
   ]
  },
  {
   "cell_type": "code",
   "execution_count": 59,
   "id": "b32601f3-d392-46ec-aa51-ec86a5446b22",
   "metadata": {},
   "outputs": [
    {
     "name": "stdin",
     "output_type": "stream",
     "text": [
      "Enter length1 :  4\n",
      "Enter depth :  2\n",
      "Enter length2 :  3\n",
      "Enter mass :  1\n"
     ]
    },
    {
     "name": "stdout",
     "output_type": "stream",
     "text": [
      "On the basis of input, we get:  ['MALE']\n"
     ]
    }
   ],
   "source": [
    "#prediction for male and female\n",
    "a = float(input(\"Enter length1 : \"))\n",
    "b = float(input(\"Enter depth : \"))\n",
    "c = float(input(\"Enter length2 : \"))\n",
    "d = float(input(\"Enter mass : \"))\n",
    "npArray = [[a,b,c,d]]\n",
    "print(\"On the basis of input, we get: \", classifier.predict(npArray))"
   ]
  }
 ],
 "metadata": {
  "kernelspec": {
   "display_name": "Python 3 (ipykernel)",
   "language": "python",
   "name": "python3"
  },
  "language_info": {
   "codemirror_mode": {
    "name": "ipython",
    "version": 3
   },
   "file_extension": ".py",
   "mimetype": "text/x-python",
   "name": "python",
   "nbconvert_exporter": "python",
   "pygments_lexer": "ipython3",
   "version": "3.9.13"
  }
 },
 "nbformat": 4,
 "nbformat_minor": 5
}
