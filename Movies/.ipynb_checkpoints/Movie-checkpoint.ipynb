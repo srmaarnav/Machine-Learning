{
 "cells": [
  {
   "cell_type": "code",
   "execution_count": 1,
   "id": "41d54720-5493-4a5a-b855-6d4c10b83b63",
   "metadata": {},
   "outputs": [],
   "source": [
    "import pandas as pd\n",
    "\n",
    "movies = pd.read_csv(\"movies.csv\")"
   ]
  },
  {
   "cell_type": "code",
   "execution_count": 2,
   "id": "40d2f091-1846-4022-8b3b-128b9661e8d0",
   "metadata": {},
   "outputs": [
    {
     "data": {
      "text/html": [
       "<div>\n",
       "<style scoped>\n",
       "    .dataframe tbody tr th:only-of-type {\n",
       "        vertical-align: middle;\n",
       "    }\n",
       "\n",
       "    .dataframe tbody tr th {\n",
       "        vertical-align: top;\n",
       "    }\n",
       "\n",
       "    .dataframe thead th {\n",
       "        text-align: right;\n",
       "    }\n",
       "</style>\n",
       "<table border=\"1\" class=\"dataframe\">\n",
       "  <thead>\n",
       "    <tr style=\"text-align: right;\">\n",
       "      <th></th>\n",
       "      <th>movieId</th>\n",
       "      <th>title</th>\n",
       "      <th>genres</th>\n",
       "    </tr>\n",
       "  </thead>\n",
       "  <tbody>\n",
       "    <tr>\n",
       "      <th>0</th>\n",
       "      <td>1</td>\n",
       "      <td>Toy Story (1995)</td>\n",
       "      <td>Adventure|Animation|Children|Comedy|Fantasy</td>\n",
       "    </tr>\n",
       "    <tr>\n",
       "      <th>1</th>\n",
       "      <td>2</td>\n",
       "      <td>Jumanji (1995)</td>\n",
       "      <td>Adventure|Children|Fantasy</td>\n",
       "    </tr>\n",
       "    <tr>\n",
       "      <th>2</th>\n",
       "      <td>3</td>\n",
       "      <td>Grumpier Old Men (1995)</td>\n",
       "      <td>Comedy|Romance</td>\n",
       "    </tr>\n",
       "    <tr>\n",
       "      <th>3</th>\n",
       "      <td>4</td>\n",
       "      <td>Waiting to Exhale (1995)</td>\n",
       "      <td>Comedy|Drama|Romance</td>\n",
       "    </tr>\n",
       "    <tr>\n",
       "      <th>4</th>\n",
       "      <td>5</td>\n",
       "      <td>Father of the Bride Part II (1995)</td>\n",
       "      <td>Comedy</td>\n",
       "    </tr>\n",
       "    <tr>\n",
       "      <th>...</th>\n",
       "      <td>...</td>\n",
       "      <td>...</td>\n",
       "      <td>...</td>\n",
       "    </tr>\n",
       "    <tr>\n",
       "      <th>62418</th>\n",
       "      <td>209157</td>\n",
       "      <td>We (2018)</td>\n",
       "      <td>Drama</td>\n",
       "    </tr>\n",
       "    <tr>\n",
       "      <th>62419</th>\n",
       "      <td>209159</td>\n",
       "      <td>Window of the Soul (2001)</td>\n",
       "      <td>Documentary</td>\n",
       "    </tr>\n",
       "    <tr>\n",
       "      <th>62420</th>\n",
       "      <td>209163</td>\n",
       "      <td>Bad Poems (2018)</td>\n",
       "      <td>Comedy|Drama</td>\n",
       "    </tr>\n",
       "    <tr>\n",
       "      <th>62421</th>\n",
       "      <td>209169</td>\n",
       "      <td>A Girl Thing (2001)</td>\n",
       "      <td>(no genres listed)</td>\n",
       "    </tr>\n",
       "    <tr>\n",
       "      <th>62422</th>\n",
       "      <td>209171</td>\n",
       "      <td>Women of Devil's Island (1962)</td>\n",
       "      <td>Action|Adventure|Drama</td>\n",
       "    </tr>\n",
       "  </tbody>\n",
       "</table>\n",
       "<p>62423 rows × 3 columns</p>\n",
       "</div>"
      ],
      "text/plain": [
       "       movieId                               title  \\\n",
       "0            1                    Toy Story (1995)   \n",
       "1            2                      Jumanji (1995)   \n",
       "2            3             Grumpier Old Men (1995)   \n",
       "3            4            Waiting to Exhale (1995)   \n",
       "4            5  Father of the Bride Part II (1995)   \n",
       "...        ...                                 ...   \n",
       "62418   209157                           We (2018)   \n",
       "62419   209159           Window of the Soul (2001)   \n",
       "62420   209163                    Bad Poems (2018)   \n",
       "62421   209169                 A Girl Thing (2001)   \n",
       "62422   209171      Women of Devil's Island (1962)   \n",
       "\n",
       "                                            genres  \n",
       "0      Adventure|Animation|Children|Comedy|Fantasy  \n",
       "1                       Adventure|Children|Fantasy  \n",
       "2                                   Comedy|Romance  \n",
       "3                             Comedy|Drama|Romance  \n",
       "4                                           Comedy  \n",
       "...                                            ...  \n",
       "62418                                        Drama  \n",
       "62419                                  Documentary  \n",
       "62420                                 Comedy|Drama  \n",
       "62421                           (no genres listed)  \n",
       "62422                       Action|Adventure|Drama  \n",
       "\n",
       "[62423 rows x 3 columns]"
      ]
     },
     "execution_count": 2,
     "metadata": {},
     "output_type": "execute_result"
    }
   ],
   "source": [
    "movies"
   ]
  },
  {
   "cell_type": "markdown",
   "id": "257b21c5-b0e0-4f04-ac61-3a0ce23e7cd8",
   "metadata": {},
   "source": [
    "with this we can create movi search engine"
   ]
  },
  {
   "cell_type": "markdown",
   "id": "d4170a6f-b952-4eba-874c-821446aa7af5",
   "metadata": {},
   "source": [
    "with rating.csv, we create recommendation system"
   ]
  },
  {
   "cell_type": "markdown",
   "id": "29cc3f6a-dd65-4c2e-87ca-e6c3384f731c",
   "metadata": {},
   "source": [
    "we user re library to clean movie title"
   ]
  },
  {
   "cell_type": "code",
   "execution_count": 3,
   "id": "808cb331-f9ac-40e7-8824-3ecaca69eb51",
   "metadata": {},
   "outputs": [],
   "source": [
    "import re\n",
    "\n",
    "def clean_title(title):\n",
    "    return re.sub(\"[^a-zA-Z0-9 ]\", \"\", title)\n",
    "\n",
    "#removes everything except specified fields form the title"
   ]
  },
  {
   "cell_type": "code",
   "execution_count": 4,
   "id": "9d32faa3-beae-41e8-a1fa-d1e0dc9ff0d4",
   "metadata": {},
   "outputs": [],
   "source": [
    "movies[\"clean_title\"] = movies[\"title\"].apply(clean_title)"
   ]
  },
  {
   "cell_type": "code",
   "execution_count": 5,
   "id": "9b3ea4fd-a5d6-4bf4-8a7f-aae4891be7b7",
   "metadata": {},
   "outputs": [
    {
     "data": {
      "text/html": [
       "<div>\n",
       "<style scoped>\n",
       "    .dataframe tbody tr th:only-of-type {\n",
       "        vertical-align: middle;\n",
       "    }\n",
       "\n",
       "    .dataframe tbody tr th {\n",
       "        vertical-align: top;\n",
       "    }\n",
       "\n",
       "    .dataframe thead th {\n",
       "        text-align: right;\n",
       "    }\n",
       "</style>\n",
       "<table border=\"1\" class=\"dataframe\">\n",
       "  <thead>\n",
       "    <tr style=\"text-align: right;\">\n",
       "      <th></th>\n",
       "      <th>movieId</th>\n",
       "      <th>title</th>\n",
       "      <th>genres</th>\n",
       "      <th>clean_title</th>\n",
       "    </tr>\n",
       "  </thead>\n",
       "  <tbody>\n",
       "    <tr>\n",
       "      <th>0</th>\n",
       "      <td>1</td>\n",
       "      <td>Toy Story (1995)</td>\n",
       "      <td>Adventure|Animation|Children|Comedy|Fantasy</td>\n",
       "      <td>Toy Story 1995</td>\n",
       "    </tr>\n",
       "    <tr>\n",
       "      <th>1</th>\n",
       "      <td>2</td>\n",
       "      <td>Jumanji (1995)</td>\n",
       "      <td>Adventure|Children|Fantasy</td>\n",
       "      <td>Jumanji 1995</td>\n",
       "    </tr>\n",
       "    <tr>\n",
       "      <th>2</th>\n",
       "      <td>3</td>\n",
       "      <td>Grumpier Old Men (1995)</td>\n",
       "      <td>Comedy|Romance</td>\n",
       "      <td>Grumpier Old Men 1995</td>\n",
       "    </tr>\n",
       "    <tr>\n",
       "      <th>3</th>\n",
       "      <td>4</td>\n",
       "      <td>Waiting to Exhale (1995)</td>\n",
       "      <td>Comedy|Drama|Romance</td>\n",
       "      <td>Waiting to Exhale 1995</td>\n",
       "    </tr>\n",
       "    <tr>\n",
       "      <th>4</th>\n",
       "      <td>5</td>\n",
       "      <td>Father of the Bride Part II (1995)</td>\n",
       "      <td>Comedy</td>\n",
       "      <td>Father of the Bride Part II 1995</td>\n",
       "    </tr>\n",
       "    <tr>\n",
       "      <th>...</th>\n",
       "      <td>...</td>\n",
       "      <td>...</td>\n",
       "      <td>...</td>\n",
       "      <td>...</td>\n",
       "    </tr>\n",
       "    <tr>\n",
       "      <th>62418</th>\n",
       "      <td>209157</td>\n",
       "      <td>We (2018)</td>\n",
       "      <td>Drama</td>\n",
       "      <td>We 2018</td>\n",
       "    </tr>\n",
       "    <tr>\n",
       "      <th>62419</th>\n",
       "      <td>209159</td>\n",
       "      <td>Window of the Soul (2001)</td>\n",
       "      <td>Documentary</td>\n",
       "      <td>Window of the Soul 2001</td>\n",
       "    </tr>\n",
       "    <tr>\n",
       "      <th>62420</th>\n",
       "      <td>209163</td>\n",
       "      <td>Bad Poems (2018)</td>\n",
       "      <td>Comedy|Drama</td>\n",
       "      <td>Bad Poems 2018</td>\n",
       "    </tr>\n",
       "    <tr>\n",
       "      <th>62421</th>\n",
       "      <td>209169</td>\n",
       "      <td>A Girl Thing (2001)</td>\n",
       "      <td>(no genres listed)</td>\n",
       "      <td>A Girl Thing 2001</td>\n",
       "    </tr>\n",
       "    <tr>\n",
       "      <th>62422</th>\n",
       "      <td>209171</td>\n",
       "      <td>Women of Devil's Island (1962)</td>\n",
       "      <td>Action|Adventure|Drama</td>\n",
       "      <td>Women of Devils Island 1962</td>\n",
       "    </tr>\n",
       "  </tbody>\n",
       "</table>\n",
       "<p>62423 rows × 4 columns</p>\n",
       "</div>"
      ],
      "text/plain": [
       "       movieId                               title  \\\n",
       "0            1                    Toy Story (1995)   \n",
       "1            2                      Jumanji (1995)   \n",
       "2            3             Grumpier Old Men (1995)   \n",
       "3            4            Waiting to Exhale (1995)   \n",
       "4            5  Father of the Bride Part II (1995)   \n",
       "...        ...                                 ...   \n",
       "62418   209157                           We (2018)   \n",
       "62419   209159           Window of the Soul (2001)   \n",
       "62420   209163                    Bad Poems (2018)   \n",
       "62421   209169                 A Girl Thing (2001)   \n",
       "62422   209171      Women of Devil's Island (1962)   \n",
       "\n",
       "                                            genres  \\\n",
       "0      Adventure|Animation|Children|Comedy|Fantasy   \n",
       "1                       Adventure|Children|Fantasy   \n",
       "2                                   Comedy|Romance   \n",
       "3                             Comedy|Drama|Romance   \n",
       "4                                           Comedy   \n",
       "...                                            ...   \n",
       "62418                                        Drama   \n",
       "62419                                  Documentary   \n",
       "62420                                 Comedy|Drama   \n",
       "62421                           (no genres listed)   \n",
       "62422                       Action|Adventure|Drama   \n",
       "\n",
       "                            clean_title  \n",
       "0                        Toy Story 1995  \n",
       "1                          Jumanji 1995  \n",
       "2                 Grumpier Old Men 1995  \n",
       "3                Waiting to Exhale 1995  \n",
       "4      Father of the Bride Part II 1995  \n",
       "...                                 ...  \n",
       "62418                           We 2018  \n",
       "62419           Window of the Soul 2001  \n",
       "62420                    Bad Poems 2018  \n",
       "62421                 A Girl Thing 2001  \n",
       "62422       Women of Devils Island 1962  \n",
       "\n",
       "[62423 rows x 4 columns]"
      ]
     },
     "execution_count": 5,
     "metadata": {},
     "output_type": "execute_result"
    }
   ],
   "source": [
    "movies"
   ]
  },
  {
   "cell_type": "markdown",
   "id": "18f174b1-69f5-475e-8e3f-decc02a64f15",
   "metadata": {},
   "source": [
    "For Search engine\n",
    "\n",
    "convert title of movies into sets of number so that computer can search for similar\n",
    "\n",
    "for example:\n",
    "\n",
    "3 movies\n",
    "\n",
    "The \n",
    "Harry The Potter\n",
    "The Harry\n",
    "\n",
    "if the word occurs, we create frequency column for the title\n",
    "\n",
    "than, we use inverse document frequency to check for uniqueness\n",
    "\n",
    "at the end is a vector(number) for each movie title, that best describes the title\n",
    "\n",
    "for search, turns the title into number and compares it with other titles and finds the most similar from a similarity matrix\n",
    "\n",
    "we can import it TfidfVectorizer, that does vectorization of all the data"
   ]
  },
  {
   "cell_type": "code",
   "execution_count": 6,
   "id": "c974da6a-cd55-419a-9dac-ba6a19384363",
   "metadata": {},
   "outputs": [],
   "source": [
    "from sklearn.feature_extraction.text import TfidfVectorizer\n",
    "\n",
    "vectorizer = TfidfVectorizer(ngram_range=(1,2))\n",
    "\n",
    "#ngram is used so that instead of  a single key for a search, we can use combination as well for accuracy\n",
    "#for eg. in a girl thing 2001, instead of searching for each phrase one by one, it searches for in a, a girl, girl thing, thing 2001 as well \n",
    "\n",
    "tfidf = vectorizer.fit_transform(movies[\"clean_title\"])"
   ]
  },
  {
   "cell_type": "markdown",
   "id": "08344242-ca2e-4750-bcda-4bc2edbe041e",
   "metadata": {},
   "source": [
    "For search, computing similarity for functions, we use cosine similarity from sklearn"
   ]
  },
  {
   "cell_type": "code",
   "execution_count": 7,
   "id": "f4a78239-c630-4d60-aa45-fb1c858706fd",
   "metadata": {},
   "outputs": [],
   "source": [
    "from sklearn.metrics.pairwise import cosine_similarity\n",
    "import numpy as np\n",
    "\n",
    "#def search(title):\n",
    "\n",
    "title = \"Harry Potter\"\n",
    "title = clean_title(title)\n",
    "query_vec = vectorizer.transform([title])"
   ]
  },
  {
   "cell_type": "code",
   "execution_count": 8,
   "id": "98e6335f-8275-4ab2-90a5-14c37911d674",
   "metadata": {},
   "outputs": [
    {
     "data": {
      "text/plain": [
       "<1x170073 sparse matrix of type '<class 'numpy.float64'>'\n",
       "\twith 3 stored elements in Compressed Sparse Row format>"
      ]
     },
     "execution_count": 8,
     "metadata": {},
     "output_type": "execute_result"
    }
   ],
   "source": [
    "query_vec"
   ]
  },
  {
   "cell_type": "markdown",
   "id": "ed3c657c-d5bf-47e3-b008-36a4b759c78c",
   "metadata": {},
   "source": [
    "turns harry potter intp sparse matrix"
   ]
  },
  {
   "cell_type": "code",
   "execution_count": 9,
   "id": "8a091e0c-d112-4007-9936-623e94bfa92f",
   "metadata": {},
   "outputs": [],
   "source": [
    "from sklearn.metrics.pairwise import cosine_similarity\n",
    "import numpy as np\n",
    "\n",
    "#def search(title):\n",
    "\n",
    "title = \"Men 1995\"\n",
    "title = clean_title(title)\n",
    "query_vec = vectorizer.transform([title])\n",
    "similarity = cosine_similarity(query_vec, tfidf).flatten()"
   ]
  },
  {
   "cell_type": "code",
   "execution_count": 10,
   "id": "df8a09e8-59d9-4ba3-b60b-b63b8b0d5d2d",
   "metadata": {},
   "outputs": [
    {
     "data": {
      "text/plain": [
       "array([0.113662  , 0.12665159, 0.57464617, ..., 0.        , 0.        ,\n",
       "       0.        ])"
      ]
     },
     "execution_count": 10,
     "metadata": {},
     "output_type": "execute_result"
    }
   ],
   "source": [
    "similarity"
   ]
  },
  {
   "cell_type": "markdown",
   "id": "ae4edab9-a6d4-4fb3-844e-f38baee78ad7",
   "metadata": {},
   "source": [
    "shows similarity for the title as array"
   ]
  },
  {
   "cell_type": "markdown",
   "id": "169eeeff-b339-4d1b-89f9-522ac1e50df3",
   "metadata": {},
   "source": [
    "now for greatest similarity"
   ]
  },
  {
   "cell_type": "markdown",
   "id": "d9cecd90-244f-4e82-8228-e2b08167f958",
   "metadata": {},
   "source": [
    "we use numpy function np.argpartition(similarity, -5)[-5:]  gives 5 most similar titles for search term"
   ]
  },
  {
   "cell_type": "code",
   "execution_count": 11,
   "id": "ccf9f79b-9870-4077-a350-d8feada4fdb1",
   "metadata": {},
   "outputs": [],
   "source": [
    "from sklearn.metrics.pairwise import cosine_similarity\n",
    "import numpy as np\n",
    "\n",
    "#def search(title):\n",
    "\n",
    "title = \"Toy STory\"\n",
    "title = clean_title(title)\n",
    "query_vec = vectorizer.transform([title])\n",
    "similarity = cosine_similarity(query_vec, tfidf).flatten()\n",
    "indices = np.argpartition(similarity, -5)[-5:]\n",
    "results = movies.iloc[indices][::-1]\n",
    "\n",
    "#in iloc, the most similar result is at last due to most matching, and hence, we user [::-1] to reverse the results given\n",
    "#most similar movie at top\n",
    "#indices gives 5 most similar and results iloc shows the movies as results "
   ]
  },
  {
   "cell_type": "code",
   "execution_count": 12,
   "id": "73368435-74e3-4d74-80de-9b2dd7b247dc",
   "metadata": {},
   "outputs": [
    {
     "data": {
      "text/html": [
       "<div>\n",
       "<style scoped>\n",
       "    .dataframe tbody tr th:only-of-type {\n",
       "        vertical-align: middle;\n",
       "    }\n",
       "\n",
       "    .dataframe tbody tr th {\n",
       "        vertical-align: top;\n",
       "    }\n",
       "\n",
       "    .dataframe thead th {\n",
       "        text-align: right;\n",
       "    }\n",
       "</style>\n",
       "<table border=\"1\" class=\"dataframe\">\n",
       "  <thead>\n",
       "    <tr style=\"text-align: right;\">\n",
       "      <th></th>\n",
       "      <th>movieId</th>\n",
       "      <th>title</th>\n",
       "      <th>genres</th>\n",
       "      <th>clean_title</th>\n",
       "    </tr>\n",
       "  </thead>\n",
       "  <tbody>\n",
       "    <tr>\n",
       "      <th>3021</th>\n",
       "      <td>3114</td>\n",
       "      <td>Toy Story 2 (1999)</td>\n",
       "      <td>Adventure|Animation|Children|Comedy|Fantasy</td>\n",
       "      <td>Toy Story 2 1999</td>\n",
       "    </tr>\n",
       "    <tr>\n",
       "      <th>14813</th>\n",
       "      <td>78499</td>\n",
       "      <td>Toy Story 3 (2010)</td>\n",
       "      <td>Adventure|Animation|Children|Comedy|Fantasy|IMAX</td>\n",
       "      <td>Toy Story 3 2010</td>\n",
       "    </tr>\n",
       "    <tr>\n",
       "      <th>0</th>\n",
       "      <td>1</td>\n",
       "      <td>Toy Story (1995)</td>\n",
       "      <td>Adventure|Animation|Children|Comedy|Fantasy</td>\n",
       "      <td>Toy Story 1995</td>\n",
       "    </tr>\n",
       "    <tr>\n",
       "      <th>59767</th>\n",
       "      <td>201588</td>\n",
       "      <td>Toy Story 4 (2019)</td>\n",
       "      <td>Adventure|Animation|Children|Comedy</td>\n",
       "      <td>Toy Story 4 2019</td>\n",
       "    </tr>\n",
       "    <tr>\n",
       "      <th>20497</th>\n",
       "      <td>106022</td>\n",
       "      <td>Toy Story of Terror (2013)</td>\n",
       "      <td>Animation|Children|Comedy</td>\n",
       "      <td>Toy Story of Terror 2013</td>\n",
       "    </tr>\n",
       "  </tbody>\n",
       "</table>\n",
       "</div>"
      ],
      "text/plain": [
       "       movieId                       title  \\\n",
       "3021      3114          Toy Story 2 (1999)   \n",
       "14813    78499          Toy Story 3 (2010)   \n",
       "0            1            Toy Story (1995)   \n",
       "59767   201588          Toy Story 4 (2019)   \n",
       "20497   106022  Toy Story of Terror (2013)   \n",
       "\n",
       "                                                 genres  \\\n",
       "3021        Adventure|Animation|Children|Comedy|Fantasy   \n",
       "14813  Adventure|Animation|Children|Comedy|Fantasy|IMAX   \n",
       "0           Adventure|Animation|Children|Comedy|Fantasy   \n",
       "59767               Adventure|Animation|Children|Comedy   \n",
       "20497                         Animation|Children|Comedy   \n",
       "\n",
       "                    clean_title  \n",
       "3021           Toy Story 2 1999  \n",
       "14813          Toy Story 3 2010  \n",
       "0                Toy Story 1995  \n",
       "59767          Toy Story 4 2019  \n",
       "20497  Toy Story of Terror 2013  "
      ]
     },
     "execution_count": 12,
     "metadata": {},
     "output_type": "execute_result"
    }
   ],
   "source": [
    "results"
   ]
  },
  {
   "cell_type": "markdown",
   "id": "80f07100-6e0e-48e7-9dac-654988defe31",
   "metadata": {},
   "source": [
    "Now as a function "
   ]
  },
  {
   "cell_type": "code",
   "execution_count": 13,
   "id": "f07b9fc9-1365-423b-9e8f-a236b329ef4d",
   "metadata": {},
   "outputs": [],
   "source": [
    "from sklearn.metrics.pairwise import cosine_similarity\n",
    "import numpy as np\n",
    "\n",
    "def search(title):\n",
    "    title = clean_title(title)\n",
    "    query_vec = vectorizer.transform([title])\n",
    "    similarity = cosine_similarity(query_vec, tfidf).flatten()\n",
    "    indices = np.argpartition(similarity, -5)[-5:]\n",
    "    results = movies.iloc[indices][::-1]\n",
    "    \n",
    "    return results"
   ]
  },
  {
   "cell_type": "markdown",
   "id": "e50a7fe3-27c9-4306-9ba6-480703c62565",
   "metadata": {},
   "source": [
    "import ipywidgets as widgets\n",
    "from IPython.display import display\n",
    "\n",
    "to type in movie name and see result in jupyter\n",
    "\n",
    "\n",
    "form just input widget, we get a static text box\n",
    "to make it relevent, we need to hook it to a output widget\n"
   ]
  },
  {
   "cell_type": "code",
   "execution_count": 14,
   "id": "fad0ca32-975a-4a43-8c9a-d02f68c88828",
   "metadata": {},
   "outputs": [
    {
     "data": {
      "application/vnd.jupyter.widget-view+json": {
       "model_id": "7236dab547c948ae92a0c1b8e6297733",
       "version_major": 2,
       "version_minor": 0
      },
      "text/plain": [
       "Text(value='Toy Story', description='Movie Title')"
      ]
     },
     "metadata": {},
     "output_type": "display_data"
    },
    {
     "data": {
      "application/vnd.jupyter.widget-view+json": {
       "model_id": "f127edfd85d64034a4c25f15b1221468",
       "version_major": 2,
       "version_minor": 0
      },
      "text/plain": [
       "Output()"
      ]
     },
     "metadata": {},
     "output_type": "display_data"
    }
   ],
   "source": [
    "import ipywidgets as widgets\n",
    "from IPython.display import display\n",
    "\n",
    "movie_input = widgets.Text(\n",
    "    value = \"Toy Story\",\n",
    "    description = \"Movie Title\",\n",
    "    disabled = False\n",
    ")\n",
    "\n",
    "movie_list = widgets.Output()\n",
    "\n",
    "def on_type(data):\n",
    "    with movie_list:\n",
    "        movie_list.clear_output()\n",
    "        title = data[\"new\"]\n",
    "        if len(title) > 5:\n",
    "            display(search(title))\n",
    "\n",
    "            \n",
    "movie_input.observe(on_type, names='value')\n",
    "\n",
    "display(movie_input, movie_list)"
   ]
  },
  {
   "cell_type": "markdown",
   "id": "f3ce3f1d-7564-417a-a281-178f8a451ab5",
   "metadata": {},
   "source": [
    "now for recommendation system"
   ]
  },
  {
   "cell_type": "code",
   "execution_count": 15,
   "id": "2ee0b09b-9fdc-4c94-aa09-4cf57a7e4cb7",
   "metadata": {},
   "outputs": [],
   "source": [
    "ratings = pd.read_csv(\"ratings.csv\")"
   ]
  },
  {
   "cell_type": "code",
   "execution_count": 16,
   "id": "a16ce9e2-411b-42e0-88d9-1ab3122f57d6",
   "metadata": {},
   "outputs": [
    {
     "data": {
      "text/html": [
       "<div>\n",
       "<style scoped>\n",
       "    .dataframe tbody tr th:only-of-type {\n",
       "        vertical-align: middle;\n",
       "    }\n",
       "\n",
       "    .dataframe tbody tr th {\n",
       "        vertical-align: top;\n",
       "    }\n",
       "\n",
       "    .dataframe thead th {\n",
       "        text-align: right;\n",
       "    }\n",
       "</style>\n",
       "<table border=\"1\" class=\"dataframe\">\n",
       "  <thead>\n",
       "    <tr style=\"text-align: right;\">\n",
       "      <th></th>\n",
       "      <th>userId</th>\n",
       "      <th>movieId</th>\n",
       "      <th>rating</th>\n",
       "      <th>timestamp</th>\n",
       "    </tr>\n",
       "  </thead>\n",
       "  <tbody>\n",
       "    <tr>\n",
       "      <th>0</th>\n",
       "      <td>1</td>\n",
       "      <td>296</td>\n",
       "      <td>5.0</td>\n",
       "      <td>1147880044</td>\n",
       "    </tr>\n",
       "    <tr>\n",
       "      <th>1</th>\n",
       "      <td>1</td>\n",
       "      <td>306</td>\n",
       "      <td>3.5</td>\n",
       "      <td>1147868817</td>\n",
       "    </tr>\n",
       "    <tr>\n",
       "      <th>2</th>\n",
       "      <td>1</td>\n",
       "      <td>307</td>\n",
       "      <td>5.0</td>\n",
       "      <td>1147868828</td>\n",
       "    </tr>\n",
       "    <tr>\n",
       "      <th>3</th>\n",
       "      <td>1</td>\n",
       "      <td>665</td>\n",
       "      <td>5.0</td>\n",
       "      <td>1147878820</td>\n",
       "    </tr>\n",
       "    <tr>\n",
       "      <th>4</th>\n",
       "      <td>1</td>\n",
       "      <td>899</td>\n",
       "      <td>3.5</td>\n",
       "      <td>1147868510</td>\n",
       "    </tr>\n",
       "    <tr>\n",
       "      <th>...</th>\n",
       "      <td>...</td>\n",
       "      <td>...</td>\n",
       "      <td>...</td>\n",
       "      <td>...</td>\n",
       "    </tr>\n",
       "    <tr>\n",
       "      <th>25000090</th>\n",
       "      <td>162541</td>\n",
       "      <td>50872</td>\n",
       "      <td>4.5</td>\n",
       "      <td>1240953372</td>\n",
       "    </tr>\n",
       "    <tr>\n",
       "      <th>25000091</th>\n",
       "      <td>162541</td>\n",
       "      <td>55768</td>\n",
       "      <td>2.5</td>\n",
       "      <td>1240951998</td>\n",
       "    </tr>\n",
       "    <tr>\n",
       "      <th>25000092</th>\n",
       "      <td>162541</td>\n",
       "      <td>56176</td>\n",
       "      <td>2.0</td>\n",
       "      <td>1240950697</td>\n",
       "    </tr>\n",
       "    <tr>\n",
       "      <th>25000093</th>\n",
       "      <td>162541</td>\n",
       "      <td>58559</td>\n",
       "      <td>4.0</td>\n",
       "      <td>1240953434</td>\n",
       "    </tr>\n",
       "    <tr>\n",
       "      <th>25000094</th>\n",
       "      <td>162541</td>\n",
       "      <td>63876</td>\n",
       "      <td>5.0</td>\n",
       "      <td>1240952515</td>\n",
       "    </tr>\n",
       "  </tbody>\n",
       "</table>\n",
       "<p>25000095 rows × 4 columns</p>\n",
       "</div>"
      ],
      "text/plain": [
       "          userId  movieId  rating   timestamp\n",
       "0              1      296     5.0  1147880044\n",
       "1              1      306     3.5  1147868817\n",
       "2              1      307     5.0  1147868828\n",
       "3              1      665     5.0  1147878820\n",
       "4              1      899     3.5  1147868510\n",
       "...          ...      ...     ...         ...\n",
       "25000090  162541    50872     4.5  1240953372\n",
       "25000091  162541    55768     2.5  1240951998\n",
       "25000092  162541    56176     2.0  1240950697\n",
       "25000093  162541    58559     4.0  1240953434\n",
       "25000094  162541    63876     5.0  1240952515\n",
       "\n",
       "[25000095 rows x 4 columns]"
      ]
     },
     "execution_count": 16,
     "metadata": {},
     "output_type": "execute_result"
    }
   ],
   "source": [
    "ratings"
   ]
  },
  {
   "cell_type": "code",
   "execution_count": 17,
   "id": "fb9f6633-7f9a-4e48-b610-f9ccf7e0ffbd",
   "metadata": {},
   "outputs": [
    {
     "data": {
      "text/plain": [
       "userId         int64\n",
       "movieId        int64\n",
       "rating       float64\n",
       "timestamp      int64\n",
       "dtype: object"
      ]
     },
     "execution_count": 17,
     "metadata": {},
     "output_type": "execute_result"
    }
   ],
   "source": [
    "ratings.dtypes"
   ]
  },
  {
   "cell_type": "markdown",
   "id": "0b8f021d-fe0e-47ce-b753-c0e1ad66013c",
   "metadata": {},
   "source": [
    "search for user who liked hulk and movies they liked again"
   ]
  },
  {
   "cell_type": "code",
   "execution_count": 18,
   "id": "e792bc43-5178-4a94-bd80-b0b4e3cf1c7b",
   "metadata": {},
   "outputs": [],
   "source": [
    "movie_id = 1"
   ]
  },
  {
   "cell_type": "code",
   "execution_count": 19,
   "id": "008ae28a-ac7b-488c-8372-5ae2a5f0a32f",
   "metadata": {
    "tags": []
   },
   "outputs": [],
   "source": [
    "similar_users = ratings[(ratings[\"movieId\"] == movie_id) & (ratings[\"rating\"] > 4)][\"userId\"].unique()\n",
    "\n",
    "##here we take unique user id that have watched the same movie and gave 5 rating"
   ]
  },
  {
   "cell_type": "code",
   "execution_count": 20,
   "id": "6d52a74f-1380-4b79-af1f-dc370fae6470",
   "metadata": {},
   "outputs": [
    {
     "data": {
      "text/plain": [
       "array([    36,     75,     86, ..., 162527, 162530, 162533], dtype=int64)"
      ]
     },
     "execution_count": 20,
     "metadata": {},
     "output_type": "execute_result"
    }
   ],
   "source": [
    "similar_users"
   ]
  },
  {
   "cell_type": "code",
   "execution_count": 21,
   "id": "9527e7ad-f725-447d-8582-2ddd84a30f72",
   "metadata": {},
   "outputs": [],
   "source": [
    "similar_user_recs = ratings[(ratings[\"userId\"].isin(similar_users)) & (ratings[\"rating\"] > 4)][\"movieId\"]"
   ]
  },
  {
   "cell_type": "markdown",
   "id": "08f0f09f-95c2-4349-a231-a6395fc43881",
   "metadata": {},
   "source": [
    "we wxtraxt movie id, as that connects the two dataset we are using"
   ]
  },
  {
   "cell_type": "code",
   "execution_count": 22,
   "id": "9602b4a6-010a-4b80-b53a-1875fcc57720",
   "metadata": {},
   "outputs": [
    {
     "data": {
      "text/plain": [
       "5101            1\n",
       "5105           34\n",
       "5111          110\n",
       "5114          150\n",
       "5127          260\n",
       "            ...  \n",
       "24998854    60069\n",
       "24998861    67997\n",
       "24998876    78499\n",
       "24998884    81591\n",
       "24998888    88129\n",
       "Name: movieId, Length: 1358326, dtype: int64"
      ]
     },
     "execution_count": 22,
     "metadata": {},
     "output_type": "execute_result"
    }
   ],
   "source": [
    "similar_user_recs"
   ]
  },
  {
   "cell_type": "markdown",
   "id": "a2fa9758-57f9-4e33-8c49-894cca420efd",
   "metadata": {},
   "source": [
    "since we have got many recommendation, so we narrow that down to 10% or more of users that are similar to us liked"
   ]
  },
  {
   "cell_type": "code",
   "execution_count": 23,
   "id": "674dafe8-f5af-4d48-bc3c-74a2bb3ab567",
   "metadata": {},
   "outputs": [
    {
     "data": {
      "text/plain": [
       "1         18835\n",
       "318        8393\n",
       "260        7605\n",
       "356        6973\n",
       "296        6918\n",
       "          ...  \n",
       "128478        1\n",
       "125125        1\n",
       "119701        1\n",
       "107563        1\n",
       "7625          1\n",
       "Name: movieId, Length: 19282, dtype: int64"
      ]
     },
     "execution_count": 23,
     "metadata": {},
     "output_type": "execute_result"
    }
   ],
   "source": [
    "similar_user_recs.value_counts()"
   ]
  },
  {
   "cell_type": "code",
   "execution_count": 24,
   "id": "d0129dd2-a194-4003-895f-42f39200ac56",
   "metadata": {},
   "outputs": [],
   "source": [
    "similar_user_recs = similar_user_recs.value_counts() / len(similar_users)\n",
    "\n",
    "similar_user_recs = similar_user_recs[similar_user_recs > .01]"
   ]
  },
  {
   "cell_type": "code",
   "execution_count": 25,
   "id": "ee6c1045-ba15-40e5-af2d-16bc66600e91",
   "metadata": {},
   "outputs": [
    {
     "data": {
      "text/plain": [
       "1        1.000000\n",
       "318      0.445607\n",
       "260      0.403770\n",
       "356      0.370215\n",
       "296      0.367295\n",
       "           ...   \n",
       "46972    0.010035\n",
       "74789    0.010035\n",
       "52722    0.010035\n",
       "63859    0.010035\n",
       "98154    0.010035\n",
       "Name: movieId, Length: 1373, dtype: float64"
      ]
     },
     "execution_count": 25,
     "metadata": {},
     "output_type": "execute_result"
    }
   ],
   "source": [
    "similar_user_recs"
   ]
  },
  {
   "cell_type": "code",
   "execution_count": 26,
   "id": "7190577c-1859-4cf0-ad75-8a41488a7c63",
   "metadata": {},
   "outputs": [],
   "source": [
    "#many of the movies are generic movies, so we have to get movies that people similar to us liked"
   ]
  },
  {
   "cell_type": "code",
   "execution_count": 27,
   "id": "e9e02da3-392e-449a-bbec-bf05f709c88f",
   "metadata": {},
   "outputs": [],
   "source": [
    "all_users = ratings[(ratings[\"movieId\"].isin(similar_user_recs.index)) & (ratings[\"rating\"] > 4)]"
   ]
  },
  {
   "cell_type": "code",
   "execution_count": 28,
   "id": "44fe0a76-9286-42f3-9b89-631e2b4c8058",
   "metadata": {},
   "outputs": [
    {
     "data": {
      "text/html": [
       "<div>\n",
       "<style scoped>\n",
       "    .dataframe tbody tr th:only-of-type {\n",
       "        vertical-align: middle;\n",
       "    }\n",
       "\n",
       "    .dataframe tbody tr th {\n",
       "        vertical-align: top;\n",
       "    }\n",
       "\n",
       "    .dataframe thead th {\n",
       "        text-align: right;\n",
       "    }\n",
       "</style>\n",
       "<table border=\"1\" class=\"dataframe\">\n",
       "  <thead>\n",
       "    <tr style=\"text-align: right;\">\n",
       "      <th></th>\n",
       "      <th>userId</th>\n",
       "      <th>movieId</th>\n",
       "      <th>rating</th>\n",
       "      <th>timestamp</th>\n",
       "    </tr>\n",
       "  </thead>\n",
       "  <tbody>\n",
       "    <tr>\n",
       "      <th>0</th>\n",
       "      <td>1</td>\n",
       "      <td>296</td>\n",
       "      <td>5.0</td>\n",
       "      <td>1147880044</td>\n",
       "    </tr>\n",
       "    <tr>\n",
       "      <th>2</th>\n",
       "      <td>1</td>\n",
       "      <td>307</td>\n",
       "      <td>5.0</td>\n",
       "      <td>1147868828</td>\n",
       "    </tr>\n",
       "    <tr>\n",
       "      <th>8</th>\n",
       "      <td>1</td>\n",
       "      <td>1237</td>\n",
       "      <td>5.0</td>\n",
       "      <td>1147868839</td>\n",
       "    </tr>\n",
       "    <tr>\n",
       "      <th>19</th>\n",
       "      <td>1</td>\n",
       "      <td>2692</td>\n",
       "      <td>5.0</td>\n",
       "      <td>1147869100</td>\n",
       "    </tr>\n",
       "    <tr>\n",
       "      <th>23</th>\n",
       "      <td>1</td>\n",
       "      <td>3949</td>\n",
       "      <td>5.0</td>\n",
       "      <td>1147868678</td>\n",
       "    </tr>\n",
       "    <tr>\n",
       "      <th>...</th>\n",
       "      <td>...</td>\n",
       "      <td>...</td>\n",
       "      <td>...</td>\n",
       "      <td>...</td>\n",
       "    </tr>\n",
       "    <tr>\n",
       "      <th>25000085</th>\n",
       "      <td>162541</td>\n",
       "      <td>8983</td>\n",
       "      <td>4.5</td>\n",
       "      <td>1240953211</td>\n",
       "    </tr>\n",
       "    <tr>\n",
       "      <th>25000086</th>\n",
       "      <td>162541</td>\n",
       "      <td>31658</td>\n",
       "      <td>4.5</td>\n",
       "      <td>1240953287</td>\n",
       "    </tr>\n",
       "    <tr>\n",
       "      <th>25000089</th>\n",
       "      <td>162541</td>\n",
       "      <td>45517</td>\n",
       "      <td>4.5</td>\n",
       "      <td>1240953353</td>\n",
       "    </tr>\n",
       "    <tr>\n",
       "      <th>25000090</th>\n",
       "      <td>162541</td>\n",
       "      <td>50872</td>\n",
       "      <td>4.5</td>\n",
       "      <td>1240953372</td>\n",
       "    </tr>\n",
       "    <tr>\n",
       "      <th>25000094</th>\n",
       "      <td>162541</td>\n",
       "      <td>63876</td>\n",
       "      <td>5.0</td>\n",
       "      <td>1240952515</td>\n",
       "    </tr>\n",
       "  </tbody>\n",
       "</table>\n",
       "<p>4625484 rows × 4 columns</p>\n",
       "</div>"
      ],
      "text/plain": [
       "          userId  movieId  rating   timestamp\n",
       "0              1      296     5.0  1147880044\n",
       "2              1      307     5.0  1147868828\n",
       "8              1     1237     5.0  1147868839\n",
       "19             1     2692     5.0  1147869100\n",
       "23             1     3949     5.0  1147868678\n",
       "...          ...      ...     ...         ...\n",
       "25000085  162541     8983     4.5  1240953211\n",
       "25000086  162541    31658     4.5  1240953287\n",
       "25000089  162541    45517     4.5  1240953353\n",
       "25000090  162541    50872     4.5  1240953372\n",
       "25000094  162541    63876     5.0  1240952515\n",
       "\n",
       "[4625484 rows x 4 columns]"
      ]
     },
     "execution_count": 28,
     "metadata": {},
     "output_type": "execute_result"
    }
   ],
   "source": [
    "all_users"
   ]
  },
  {
   "cell_type": "code",
   "execution_count": 29,
   "id": "f13b8a79-2f92-4c83-8fe7-25f2cc67316f",
   "metadata": {},
   "outputs": [],
   "source": [
    "#finding what % of user recommend each of these moveis"
   ]
  },
  {
   "cell_type": "code",
   "execution_count": 30,
   "id": "031b598e-3dc3-46b9-a5c7-e5ca9a5bbc37",
   "metadata": {},
   "outputs": [],
   "source": [
    "all_users_recs = all_users[\"movieId\"].value_counts() / len(all_users[\"userId\"].unique())"
   ]
  },
  {
   "cell_type": "code",
   "execution_count": 31,
   "id": "a2af113e-80ac-4701-862f-4b1ed0331155",
   "metadata": {},
   "outputs": [],
   "source": [
    "#movies that are high in similar recs that all user recs as that is a generic movie, what we want is a niche movie\n",
    "#movie that people similar to us like than others"
   ]
  },
  {
   "cell_type": "code",
   "execution_count": 32,
   "id": "65dacb88-c968-4db2-b3d8-d72529bb60fe",
   "metadata": {},
   "outputs": [
    {
     "data": {
      "text/plain": [
       "318      0.323097\n",
       "296      0.268766\n",
       "2571     0.230397\n",
       "356      0.222119\n",
       "593      0.213284\n",
       "           ...   \n",
       "95858    0.003114\n",
       "46972    0.003070\n",
       "72737    0.002870\n",
       "63859    0.002826\n",
       "2090     0.002557\n",
       "Name: movieId, Length: 1373, dtype: float64"
      ]
     },
     "execution_count": 32,
     "metadata": {},
     "output_type": "execute_result"
    }
   ],
   "source": [
    "all_users_recs"
   ]
  },
  {
   "cell_type": "code",
   "execution_count": 33,
   "id": "6aeb5d94-5d5b-4633-a9a7-6f867796ffcf",
   "metadata": {},
   "outputs": [],
   "source": [
    "rec_percentages = pd.concat([similar_user_recs, all_users_recs], axis=1)\n",
    "rec_percentages.columns = [\"similar\", \"all\"]"
   ]
  },
  {
   "cell_type": "code",
   "execution_count": 34,
   "id": "539c87b8-c85b-4fab-8d34-451f0aff624e",
   "metadata": {},
   "outputs": [
    {
     "data": {
      "text/html": [
       "<div>\n",
       "<style scoped>\n",
       "    .dataframe tbody tr th:only-of-type {\n",
       "        vertical-align: middle;\n",
       "    }\n",
       "\n",
       "    .dataframe tbody tr th {\n",
       "        vertical-align: top;\n",
       "    }\n",
       "\n",
       "    .dataframe thead th {\n",
       "        text-align: right;\n",
       "    }\n",
       "</style>\n",
       "<table border=\"1\" class=\"dataframe\">\n",
       "  <thead>\n",
       "    <tr style=\"text-align: right;\">\n",
       "      <th></th>\n",
       "      <th>similar</th>\n",
       "      <th>all</th>\n",
       "    </tr>\n",
       "  </thead>\n",
       "  <tbody>\n",
       "    <tr>\n",
       "      <th>1</th>\n",
       "      <td>1.000000</td>\n",
       "      <td>0.117758</td>\n",
       "    </tr>\n",
       "    <tr>\n",
       "      <th>318</th>\n",
       "      <td>0.445607</td>\n",
       "      <td>0.323097</td>\n",
       "    </tr>\n",
       "    <tr>\n",
       "      <th>260</th>\n",
       "      <td>0.403770</td>\n",
       "      <td>0.209790</td>\n",
       "    </tr>\n",
       "    <tr>\n",
       "      <th>356</th>\n",
       "      <td>0.370215</td>\n",
       "      <td>0.222119</td>\n",
       "    </tr>\n",
       "    <tr>\n",
       "      <th>296</th>\n",
       "      <td>0.367295</td>\n",
       "      <td>0.268766</td>\n",
       "    </tr>\n",
       "    <tr>\n",
       "      <th>...</th>\n",
       "      <td>...</td>\n",
       "      <td>...</td>\n",
       "    </tr>\n",
       "    <tr>\n",
       "      <th>46972</th>\n",
       "      <td>0.010035</td>\n",
       "      <td>0.003070</td>\n",
       "    </tr>\n",
       "    <tr>\n",
       "      <th>74789</th>\n",
       "      <td>0.010035</td>\n",
       "      <td>0.005014</td>\n",
       "    </tr>\n",
       "    <tr>\n",
       "      <th>52722</th>\n",
       "      <td>0.010035</td>\n",
       "      <td>0.003826</td>\n",
       "    </tr>\n",
       "    <tr>\n",
       "      <th>63859</th>\n",
       "      <td>0.010035</td>\n",
       "      <td>0.002826</td>\n",
       "    </tr>\n",
       "    <tr>\n",
       "      <th>98154</th>\n",
       "      <td>0.010035</td>\n",
       "      <td>0.003758</td>\n",
       "    </tr>\n",
       "  </tbody>\n",
       "</table>\n",
       "<p>1373 rows × 2 columns</p>\n",
       "</div>"
      ],
      "text/plain": [
       "        similar       all\n",
       "1      1.000000  0.117758\n",
       "318    0.445607  0.323097\n",
       "260    0.403770  0.209790\n",
       "356    0.370215  0.222119\n",
       "296    0.367295  0.268766\n",
       "...         ...       ...\n",
       "46972  0.010035  0.003070\n",
       "74789  0.010035  0.005014\n",
       "52722  0.010035  0.003826\n",
       "63859  0.010035  0.002826\n",
       "98154  0.010035  0.003758\n",
       "\n",
       "[1373 rows x 2 columns]"
      ]
     },
     "execution_count": 34,
     "metadata": {},
     "output_type": "execute_result"
    }
   ],
   "source": [
    "rec_percentages"
   ]
  },
  {
   "cell_type": "markdown",
   "id": "61f55b32-34d3-4de8-b0e4-0e70558e64cb",
   "metadata": {},
   "source": [
    "now recommendation score for the movies"
   ]
  },
  {
   "cell_type": "code",
   "execution_count": 35,
   "id": "3b3e5dc6-a8c7-416c-ad39-cb80c2d850eb",
   "metadata": {},
   "outputs": [],
   "source": [
    "rec_percentages[\"score\"] = rec_percentages[\"similar\"] / rec_percentages[\"all\"]"
   ]
  },
  {
   "cell_type": "code",
   "execution_count": 36,
   "id": "eca38cc0-079f-4ab0-99ed-c769f94c040b",
   "metadata": {},
   "outputs": [],
   "source": [
    "rec_percentages = rec_percentages.sort_values(\"score\", ascending=False)"
   ]
  },
  {
   "cell_type": "code",
   "execution_count": 37,
   "id": "e3f870e3-20a1-463b-ad87-f2eece460238",
   "metadata": {},
   "outputs": [
    {
     "data": {
      "text/html": [
       "<div>\n",
       "<style scoped>\n",
       "    .dataframe tbody tr th:only-of-type {\n",
       "        vertical-align: middle;\n",
       "    }\n",
       "\n",
       "    .dataframe tbody tr th {\n",
       "        vertical-align: top;\n",
       "    }\n",
       "\n",
       "    .dataframe thead th {\n",
       "        text-align: right;\n",
       "    }\n",
       "</style>\n",
       "<table border=\"1\" class=\"dataframe\">\n",
       "  <thead>\n",
       "    <tr style=\"text-align: right;\">\n",
       "      <th></th>\n",
       "      <th>similar</th>\n",
       "      <th>all</th>\n",
       "      <th>score</th>\n",
       "    </tr>\n",
       "  </thead>\n",
       "  <tbody>\n",
       "    <tr>\n",
       "      <th>1</th>\n",
       "      <td>1.000000</td>\n",
       "      <td>0.117758</td>\n",
       "      <td>8.491956</td>\n",
       "    </tr>\n",
       "    <tr>\n",
       "      <th>3114</th>\n",
       "      <td>0.280648</td>\n",
       "      <td>0.050705</td>\n",
       "      <td>5.534955</td>\n",
       "    </tr>\n",
       "    <tr>\n",
       "      <th>2355</th>\n",
       "      <td>0.110539</td>\n",
       "      <td>0.023689</td>\n",
       "      <td>4.666206</td>\n",
       "    </tr>\n",
       "    <tr>\n",
       "      <th>78499</th>\n",
       "      <td>0.152960</td>\n",
       "      <td>0.033167</td>\n",
       "      <td>4.611749</td>\n",
       "    </tr>\n",
       "    <tr>\n",
       "      <th>2687</th>\n",
       "      <td>0.033767</td>\n",
       "      <td>0.007578</td>\n",
       "      <td>4.456175</td>\n",
       "    </tr>\n",
       "    <tr>\n",
       "      <th>...</th>\n",
       "      <td>...</td>\n",
       "      <td>...</td>\n",
       "      <td>...</td>\n",
       "    </tr>\n",
       "    <tr>\n",
       "      <th>714</th>\n",
       "      <td>0.011415</td>\n",
       "      <td>0.009503</td>\n",
       "      <td>1.201165</td>\n",
       "    </tr>\n",
       "    <tr>\n",
       "      <th>3910</th>\n",
       "      <td>0.012371</td>\n",
       "      <td>0.010379</td>\n",
       "      <td>1.191943</td>\n",
       "    </tr>\n",
       "    <tr>\n",
       "      <th>1464</th>\n",
       "      <td>0.010725</td>\n",
       "      <td>0.009247</td>\n",
       "      <td>1.159821</td>\n",
       "    </tr>\n",
       "    <tr>\n",
       "      <th>92259</th>\n",
       "      <td>0.046403</td>\n",
       "      <td>0.040370</td>\n",
       "      <td>1.149446</td>\n",
       "    </tr>\n",
       "    <tr>\n",
       "      <th>7371</th>\n",
       "      <td>0.011256</td>\n",
       "      <td>0.010241</td>\n",
       "      <td>1.099081</td>\n",
       "    </tr>\n",
       "  </tbody>\n",
       "</table>\n",
       "<p>1373 rows × 3 columns</p>\n",
       "</div>"
      ],
      "text/plain": [
       "        similar       all     score\n",
       "1      1.000000  0.117758  8.491956\n",
       "3114   0.280648  0.050705  5.534955\n",
       "2355   0.110539  0.023689  4.666206\n",
       "78499  0.152960  0.033167  4.611749\n",
       "2687   0.033767  0.007578  4.456175\n",
       "...         ...       ...       ...\n",
       "714    0.011415  0.009503  1.201165\n",
       "3910   0.012371  0.010379  1.191943\n",
       "1464   0.010725  0.009247  1.159821\n",
       "92259  0.046403  0.040370  1.149446\n",
       "7371   0.011256  0.010241  1.099081\n",
       "\n",
       "[1373 rows x 3 columns]"
      ]
     },
     "execution_count": 37,
     "metadata": {},
     "output_type": "execute_result"
    }
   ],
   "source": [
    "rec_percentages"
   ]
  },
  {
   "cell_type": "code",
   "execution_count": 38,
   "id": "d0c8c818-51eb-48f5-9522-5380954bd667",
   "metadata": {},
   "outputs": [
    {
     "data": {
      "text/html": [
       "<div>\n",
       "<style scoped>\n",
       "    .dataframe tbody tr th:only-of-type {\n",
       "        vertical-align: middle;\n",
       "    }\n",
       "\n",
       "    .dataframe tbody tr th {\n",
       "        vertical-align: top;\n",
       "    }\n",
       "\n",
       "    .dataframe thead th {\n",
       "        text-align: right;\n",
       "    }\n",
       "</style>\n",
       "<table border=\"1\" class=\"dataframe\">\n",
       "  <thead>\n",
       "    <tr style=\"text-align: right;\">\n",
       "      <th></th>\n",
       "      <th>similar</th>\n",
       "      <th>all</th>\n",
       "      <th>score</th>\n",
       "      <th>movieId</th>\n",
       "      <th>title</th>\n",
       "      <th>genres</th>\n",
       "      <th>clean_title</th>\n",
       "    </tr>\n",
       "  </thead>\n",
       "  <tbody>\n",
       "    <tr>\n",
       "      <th>0</th>\n",
       "      <td>1.000000</td>\n",
       "      <td>0.117758</td>\n",
       "      <td>8.491956</td>\n",
       "      <td>1</td>\n",
       "      <td>Toy Story (1995)</td>\n",
       "      <td>Adventure|Animation|Children|Comedy|Fantasy</td>\n",
       "      <td>Toy Story 1995</td>\n",
       "    </tr>\n",
       "    <tr>\n",
       "      <th>3021</th>\n",
       "      <td>0.280648</td>\n",
       "      <td>0.050705</td>\n",
       "      <td>5.534955</td>\n",
       "      <td>3114</td>\n",
       "      <td>Toy Story 2 (1999)</td>\n",
       "      <td>Adventure|Animation|Children|Comedy|Fantasy</td>\n",
       "      <td>Toy Story 2 1999</td>\n",
       "    </tr>\n",
       "    <tr>\n",
       "      <th>2264</th>\n",
       "      <td>0.110539</td>\n",
       "      <td>0.023689</td>\n",
       "      <td>4.666206</td>\n",
       "      <td>2355</td>\n",
       "      <td>Bug's Life, A (1998)</td>\n",
       "      <td>Adventure|Animation|Children|Comedy</td>\n",
       "      <td>Bugs Life A 1998</td>\n",
       "    </tr>\n",
       "    <tr>\n",
       "      <th>14813</th>\n",
       "      <td>0.152960</td>\n",
       "      <td>0.033167</td>\n",
       "      <td>4.611749</td>\n",
       "      <td>78499</td>\n",
       "      <td>Toy Story 3 (2010)</td>\n",
       "      <td>Adventure|Animation|Children|Comedy|Fantasy|IMAX</td>\n",
       "      <td>Toy Story 3 2010</td>\n",
       "    </tr>\n",
       "    <tr>\n",
       "      <th>2595</th>\n",
       "      <td>0.033767</td>\n",
       "      <td>0.007578</td>\n",
       "      <td>4.456175</td>\n",
       "      <td>2687</td>\n",
       "      <td>Tarzan (1999)</td>\n",
       "      <td>Adventure|Animation|Children|Drama</td>\n",
       "      <td>Tarzan 1999</td>\n",
       "    </tr>\n",
       "    <tr>\n",
       "      <th>2203</th>\n",
       "      <td>0.024900</td>\n",
       "      <td>0.005921</td>\n",
       "      <td>4.205626</td>\n",
       "      <td>2294</td>\n",
       "      <td>Antz (1998)</td>\n",
       "      <td>Adventure|Animation|Children|Comedy|Fantasy</td>\n",
       "      <td>Antz 1998</td>\n",
       "    </tr>\n",
       "    <tr>\n",
       "      <th>1510</th>\n",
       "      <td>0.030634</td>\n",
       "      <td>0.007478</td>\n",
       "      <td>4.096872</td>\n",
       "      <td>1566</td>\n",
       "      <td>Hercules (1997)</td>\n",
       "      <td>Adventure|Animation|Children|Comedy|Musical</td>\n",
       "      <td>Hercules 1997</td>\n",
       "    </tr>\n",
       "    <tr>\n",
       "      <th>10810</th>\n",
       "      <td>0.033767</td>\n",
       "      <td>0.008259</td>\n",
       "      <td>4.088482</td>\n",
       "      <td>45517</td>\n",
       "      <td>Cars (2006)</td>\n",
       "      <td>Animation|Children|Comedy</td>\n",
       "      <td>Cars 2006</td>\n",
       "    </tr>\n",
       "    <tr>\n",
       "      <th>2001</th>\n",
       "      <td>0.010406</td>\n",
       "      <td>0.002557</td>\n",
       "      <td>4.069495</td>\n",
       "      <td>2090</td>\n",
       "      <td>Rescuers, The (1977)</td>\n",
       "      <td>Adventure|Animation|Children|Crime|Drama</td>\n",
       "      <td>Rescuers The 1977</td>\n",
       "    </tr>\n",
       "    <tr>\n",
       "      <th>14050</th>\n",
       "      <td>0.011521</td>\n",
       "      <td>0.002870</td>\n",
       "      <td>4.014716</td>\n",
       "      <td>72737</td>\n",
       "      <td>Princess and the Frog, The (2009)</td>\n",
       "      <td>Animation|Children|Fantasy|Musical|Romance</td>\n",
       "      <td>Princess and the Frog The 2009</td>\n",
       "    </tr>\n",
       "  </tbody>\n",
       "</table>\n",
       "</div>"
      ],
      "text/plain": [
       "        similar       all     score  movieId  \\\n",
       "0      1.000000  0.117758  8.491956        1   \n",
       "3021   0.280648  0.050705  5.534955     3114   \n",
       "2264   0.110539  0.023689  4.666206     2355   \n",
       "14813  0.152960  0.033167  4.611749    78499   \n",
       "2595   0.033767  0.007578  4.456175     2687   \n",
       "2203   0.024900  0.005921  4.205626     2294   \n",
       "1510   0.030634  0.007478  4.096872     1566   \n",
       "10810  0.033767  0.008259  4.088482    45517   \n",
       "2001   0.010406  0.002557  4.069495     2090   \n",
       "14050  0.011521  0.002870  4.014716    72737   \n",
       "\n",
       "                                   title  \\\n",
       "0                       Toy Story (1995)   \n",
       "3021                  Toy Story 2 (1999)   \n",
       "2264                Bug's Life, A (1998)   \n",
       "14813                 Toy Story 3 (2010)   \n",
       "2595                       Tarzan (1999)   \n",
       "2203                         Antz (1998)   \n",
       "1510                     Hercules (1997)   \n",
       "10810                        Cars (2006)   \n",
       "2001                Rescuers, The (1977)   \n",
       "14050  Princess and the Frog, The (2009)   \n",
       "\n",
       "                                                 genres  \\\n",
       "0           Adventure|Animation|Children|Comedy|Fantasy   \n",
       "3021        Adventure|Animation|Children|Comedy|Fantasy   \n",
       "2264                Adventure|Animation|Children|Comedy   \n",
       "14813  Adventure|Animation|Children|Comedy|Fantasy|IMAX   \n",
       "2595                 Adventure|Animation|Children|Drama   \n",
       "2203        Adventure|Animation|Children|Comedy|Fantasy   \n",
       "1510        Adventure|Animation|Children|Comedy|Musical   \n",
       "10810                         Animation|Children|Comedy   \n",
       "2001           Adventure|Animation|Children|Crime|Drama   \n",
       "14050        Animation|Children|Fantasy|Musical|Romance   \n",
       "\n",
       "                          clean_title  \n",
       "0                      Toy Story 1995  \n",
       "3021                 Toy Story 2 1999  \n",
       "2264                 Bugs Life A 1998  \n",
       "14813                Toy Story 3 2010  \n",
       "2595                      Tarzan 1999  \n",
       "2203                        Antz 1998  \n",
       "1510                    Hercules 1997  \n",
       "10810                       Cars 2006  \n",
       "2001                Rescuers The 1977  \n",
       "14050  Princess and the Frog The 2009  "
      ]
     },
     "execution_count": 38,
     "metadata": {},
     "output_type": "execute_result"
    }
   ],
   "source": [
    "rec_percentages.head(10).merge(movies, left_index=True, right_on = \"movieId\")"
   ]
  },
  {
   "cell_type": "markdown",
   "id": "507eb4b7-1192-4097-92e6-8749875f034e",
   "metadata": {},
   "source": [
    "recommendation function for all combined file"
   ]
  },
  {
   "cell_type": "code",
   "execution_count": 39,
   "id": "8982adaa-e95c-4ea1-ad08-0a68835e8a0e",
   "metadata": {},
   "outputs": [],
   "source": [
    "def find_similar_movies(movie_id):\n",
    "    \n",
    "    similar_users = ratings[(ratings[\"movieId\"] == movie_id) & (ratings[\"rating\"] > 4)][\"userId\"].unique()\n",
    "    similar_user_recs = ratings[(ratings[\"userId\"].isin(similar_users)) & (ratings[\"rating\"] > 4)][\"movieId\"]\n",
    "    similar_user_recs = similar_user_recs.value_counts() / len(similar_users)\n",
    "\n",
    "    similar_user_recs = similar_user_recs[similar_user_recs > .10]\n",
    "    all_users = ratings[(ratings[\"movieId\"].isin(similar_user_recs.index)) & (ratings[\"rating\"] > 4)]\n",
    "    all_user_recs = all_users[\"movieId\"].value_counts() / len(all_users[\"userId\"].unique())\n",
    "    rec_percentages = pd.concat([similar_user_recs, all_user_recs], axis=1)\n",
    "    rec_percentages.columns = [\"similar\", \"all\"]\n",
    "    \n",
    "    rec_percentages[\"score\"] = rec_percentages[\"similar\"] / rec_percentages[\"all\"]\n",
    "    rec_percentages = rec_percentages.sort_values(\"score\", ascending=False)\n",
    "    return rec_percentages.head(10).merge(movies, left_index=True, right_on=\"movieId\")[[\"score\", \"title\", \"genres\"]]"
   ]
  },
  {
   "cell_type": "markdown",
   "id": "a359edc3-b19a-44af-9fc3-e1f0cb91b198",
   "metadata": {},
   "source": [
    "Finally a combined widget"
   ]
  },
  {
   "cell_type": "code",
   "execution_count": 40,
   "id": "226b5de9-c5c4-4798-b0d2-307792f7cab9",
   "metadata": {},
   "outputs": [
    {
     "data": {
      "application/vnd.jupyter.widget-view+json": {
       "model_id": "cb4a88b14d8b4f6fbd1469be94509487",
       "version_major": 2,
       "version_minor": 0
      },
      "text/plain": [
       "Text(value='Toy Story', description='Movie Title')"
      ]
     },
     "metadata": {},
     "output_type": "display_data"
    },
    {
     "data": {
      "application/vnd.jupyter.widget-view+json": {
       "model_id": "2c9bec3ec1e843a48edd1bedd8a65f68",
       "version_major": 2,
       "version_minor": 0
      },
      "text/plain": [
       "Output()"
      ]
     },
     "metadata": {},
     "output_type": "display_data"
    }
   ],
   "source": [
    "import ipywidgets as widgets\n",
    "from IPython.display import display\n",
    "\n",
    "movie_name_input = widgets.Text(\n",
    "    value = \"Toy Story\",\n",
    "    description = \"Movie Title\",\n",
    "    disabled = False\n",
    ")\n",
    "\n",
    "recommendation_list = widgets.Output()\n",
    "\n",
    "def on_type(data):\n",
    "    with recommendation_list:\n",
    "        recommendation_list.clear_output()\n",
    "        title = data[\"new\"]\n",
    "        if len(title) > 5:\n",
    "            results = search(title)\n",
    "            movie_id = results.iloc[0][\"movieId\"]\n",
    "            display(find_similar_movies(movie_id))\n",
    "            \n",
    "movie_name_input.observe(on_type, names='value')\n",
    "\n",
    "display(movie_name_input, recommendation_list)"
   ]
  }
 ],
 "metadata": {
  "kernelspec": {
   "display_name": "Python 3 (ipykernel)",
   "language": "python",
   "name": "python3"
  },
  "language_info": {
   "codemirror_mode": {
    "name": "ipython",
    "version": 3
   },
   "file_extension": ".py",
   "mimetype": "text/x-python",
   "name": "python",
   "nbconvert_exporter": "python",
   "pygments_lexer": "ipython3",
   "version": "3.9.13"
  }
 },
 "nbformat": 4,
 "nbformat_minor": 5
}
